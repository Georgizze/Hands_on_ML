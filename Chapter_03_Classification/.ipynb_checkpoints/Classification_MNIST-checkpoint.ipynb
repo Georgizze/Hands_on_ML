{
 "cells": [
  {
   "cell_type": "code",
   "execution_count": 3,
   "metadata": {
    "collapsed": false
   },
   "outputs": [
    {
     "data": {
      "text/plain": [
       "{'COL_NAMES': ['label', 'data'],\n",
       " 'DESCR': 'mldata.org dataset: mnist-original',\n",
       " 'data': array([[0, 0, 0, ..., 0, 0, 0],\n",
       "        [0, 0, 0, ..., 0, 0, 0],\n",
       "        [0, 0, 0, ..., 0, 0, 0],\n",
       "        ..., \n",
       "        [0, 0, 0, ..., 0, 0, 0],\n",
       "        [0, 0, 0, ..., 0, 0, 0],\n",
       "        [0, 0, 0, ..., 0, 0, 0]], dtype=uint8),\n",
       " 'target': array([ 0.,  0.,  0., ...,  9.,  9.,  9.])}"
      ]
     },
     "execution_count": 3,
     "metadata": {},
     "output_type": "execute_result"
    }
   ],
   "source": [
    "from sklearn.datasets import fetch_mldata\n",
    "mnist = fetch_mldata('MNIST original') #set con 70.000 imagenes (de 28x28 pixels) de nros escritos a mano clasificados\n",
    "mnist"
   ]
  },
  {
   "cell_type": "code",
   "execution_count": 4,
   "metadata": {
    "collapsed": false
   },
   "outputs": [],
   "source": [
    "X, y = mnist['data'], mnist['target']"
   ]
  },
  {
   "cell_type": "code",
   "execution_count": 15,
   "metadata": {
    "collapsed": false
   },
   "outputs": [
    {
     "name": "stdout",
     "output_type": "stream",
     "text": [
      "[[0 0 0 ..., 0 0 0]\n",
      " [0 0 0 ..., 0 0 0]\n",
      " [0 0 0 ..., 0 0 0]\n",
      " ..., \n",
      " [0 0 0 ..., 0 0 0]\n",
      " [0 0 0 ..., 0 0 0]\n",
      " [0 0 0 ..., 0 0 0]]\n",
      "[ 0.  0.  0. ...,  9.  9.  9.]\n"
     ]
    }
   ],
   "source": [
    "print(X) #784 features con la intensidad entre 0 (blanco) y 255 (negro)\n",
    "print(y) #salida entre 0 y 9 que indica que nro es"
   ]
  },
  {
   "cell_type": "code",
   "execution_count": 16,
   "metadata": {
    "collapsed": false
   },
   "outputs": [
    {
     "name": "stdout",
     "output_type": "stream",
     "text": [
      "(70000, 784)\n",
      "(70000,)\n"
     ]
    }
   ],
   "source": [
    "print(X.shape)\n",
    "print(y.shape)"
   ]
  },
  {
   "cell_type": "code",
   "execution_count": 23,
   "metadata": {
    "collapsed": false
   },
   "outputs": [
    {
     "data": {
      "image/png": "[encoded data removed]",
      "text/plain": [
       "<matplotlib.figure.Figure at 0x1eb5f6d3518>"
      ]
     },
     "metadata": {},
     "output_type": "display_data"
    }
   ],
   "source": [
    "# vamos a convertir un digito del dataset a un vector y darle la forma de un arrar de 28x28 y plotearlo para ver de que se trata\n",
    "%matplotlib inline\n",
    "import matplotlib\n",
    "import matplotlib.pyplot as plt\n",
    "\n",
    "some_digit = X[36000]\n",
    "some_digit_image = some_digit.reshape(28,28)\n",
    "\n",
    "plt.imshow(some_digit_image, \n",
    "           cmap = matplotlib.cm.binary, \n",
    "           interpolation = \"nearest\")\n",
    "plt.axis(\"off\")\n",
    "plt.show()"
   ]
  },
  {
   "cell_type": "code",
   "execution_count": 18,
   "metadata": {
    "collapsed": false
   },
   "outputs": [
    {
     "data": {
      "text/plain": [
       "5.0"
      ]
     },
     "execution_count": 18,
     "metadata": {},
     "output_type": "execute_result"
    }
   ],
   "source": [
    "# veamos que nos indica el label para ese caso\n",
    "y[36000]"
   ]
  },
  {
   "cell_type": "code",
   "execution_count": 21,
   "metadata": {
    "collapsed": false
   },
   "outputs": [],
   "source": [
    "# separo en train/test sets\n",
    "X_train, x_test, y_train, y_test = X[:60000], X[60000:], y[:60000], y[60000:]\n",
    "\n",
    "# vamos a mezclar los datos para no tener problemas al realizar cross validation\n",
    "import numpy as np\n",
    "shuffle_index = np.random.permutation(60000)\n",
    "\n",
    "X_train, y_train = X_train[shuffle_index], y_train[shuffle_index]"
   ]
  },
  {
   "cell_type": "code",
   "execution_count": 24,
   "metadata": {
    "collapsed": false
   },
   "outputs": [
    {
     "data": {
      "text/plain": [
       "array([ True], dtype=bool)"
      ]
     },
     "execution_count": 24,
     "metadata": {},
     "output_type": "execute_result"
    }
   ],
   "source": [
    "# en primera instancia vamos a entrenar un clasificador binaro\n",
    "# este clasificador va a identificar nros 5\n",
    "# clases: 5, not 5\n",
    "y_train_5 = (y_train == 5) #esto retorna True si es 5 y False si no lo es\n",
    "y_test_5 = (y_train == 5)\n",
    "\n",
    "# Vamos a utilizar un clasificador (SGDClassifier de sklearn)\n",
    "# trabaja muy bien con sets grandes\n",
    "from sklearn.linear_model import SGDClassifier\n",
    "\n",
    "sgd_clf = SGDClassifier(random_state = 42) # para poder reproducir los resultados tenemos que indicarle un estado inicial, para que no sea aleatorio\n",
    "sgd_clf.fit(X_train, y_train_5)\n",
    "\n",
    "# podemos usarlo para predecir\n",
    "sgd_clf.predict([some_digit])"
   ]
  },
  {
   "cell_type": "code",
   "execution_count": 26,
   "metadata": {
    "collapsed": false
   },
   "outputs": [
    {
     "data": {
      "text/plain": [
       "array([ 0.9495 ,  0.96165,  0.96565])"
      ]
     },
     "execution_count": 26,
     "metadata": {},
     "output_type": "execute_result"
    }
   ],
   "source": [
    "# ahora vamos a evaluar la preformance del modelo\n",
    "\n",
    "# una forma de evaluarlo es midiendo al accuracy con cross-validation\n",
    "from sklearn.model_selection import cross_val_score\n",
    "\n",
    "cross_val_score(sgd_clf, X_train, y_train_5, cv=3, scoring=\"accuracy\")\n",
    "\n",
    "# en este caso tenemos que solo el 10% de las muestras son de la clase 5, en casos como esto el accuracy no es una buena medida\n",
    "# puede estar dando falsos negativos"
   ]
  },
  {
   "cell_type": "code",
   "execution_count": 30,
   "metadata": {
    "collapsed": false
   },
   "outputs": [
    {
     "data": {
      "text/plain": [
       "array([[53677,   902],\n",
       "       [ 1562,  3859]])"
      ]
     },
     "execution_count": 30,
     "metadata": {},
     "output_type": "execute_result"
    }
   ],
   "source": [
    "# otra forma más efectiva para problemas de clasificacion es usar la matriz de confusion\n",
    "# que compara las predicciones con los labels y cuenta los ok, falsos positivos y falsos negativos\n",
    "\n",
    "# podemos usar las predicciones de la validacion cruzada para no usar el set de test\n",
    "\n",
    "from sklearn.model_selection import cross_val_predict\n",
    "\n",
    "y_train_pred = cross_val_predict(sgd_clf, X_train, y_train_5, cv=3)\n",
    "\n",
    "# ya podemos armar la matriz de confusion\n",
    "from sklearn.metrics import confusion_matrix\n",
    "\n",
    "confusion_matrix(y_train_5, y_train_pred)\n",
    "\n",
    "# la primera fila considera resultado False (No 5)\n",
    "# 53677 No 5 clasificados como No 5 (true negatives)\n",
    "# 902 No 5 clasificados como 5 (false positives)\n",
    "\n",
    "# la segunda fila considera resultado True (5) \n",
    "# 1562 5 clasificados como No 5 (false positives)\n",
    "# 3562 5 clasificados como 5 (true positives)\n",
    "\n",
    "# el clasificador perfecto tendria ceros en la diagonal invertida"
   ]
  },
  {
   "cell_type": "code",
   "execution_count": 33,
   "metadata": {
    "collapsed": false
   },
   "outputs": [
    {
     "name": "stdout",
     "output_type": "stream",
     "text": [
      "PRECISION SCORE:  0.810544003361\n",
      "RECALL SCORE:  0.711861280207\n"
     ]
    }
   ],
   "source": [
    "# con los valores de esta matriz se pueden obtener metricas muy valiosas del modelo\n",
    "# PRECICION = TP / (TP + FP)\n",
    "# RECALL (tambien llamado sensitivity o true pos rate) = TP / (TP + FN)\n",
    "\n",
    "from sklearn.metrics import recall_score, precision_score\n",
    "\n",
    "print('PRECISION SCORE: ', precision_score(y_train_5, y_train_pred))\n",
    "print('RECALL SCORE: ',recall_score(y_train_5, y_train_pred))\n",
    "\n",
    "# esto quiere decir que cuando dice que es un 5 es correcto el 81% de las veces\n",
    "# y detecta el 71% de los 5"
   ]
  },
  {
   "cell_type": "code",
   "execution_count": 34,
   "metadata": {
    "collapsed": false
   },
   "outputs": [
    {
     "name": "stdout",
     "output_type": "stream",
     "text": [
      "F1 SCORE:  0.758004321351\n"
     ]
    }
   ],
   "source": [
    "# es conveniente combiar ambas metricas en una sola llamada F1 score\n",
    "from sklearn.metrics import f1_score\n",
    "\n",
    "print('F1 SCORE: ', f1_score(y_train_5, y_train_pred))"
   ]
  },
  {
   "cell_type": "code",
   "execution_count": 35,
   "metadata": {
    "collapsed": true
   },
   "outputs": [],
   "source": [
    "# ahora bien, depende el problema si requiere alta precision o recall, eso hay que decidirlo\n",
    "# si queres detectar todos los 5 el recall va a ser alto, pero la precision baja porque vas a tener muchos falsos negativos\n",
    "# es importante aclarar que si subis uno la otra metrica baja"
   ]
  },
  {
   "cell_type": "code",
   "execution_count": 40,
   "metadata": {
    "collapsed": false
   },
   "outputs": [
    {
     "data": {
      "image/png": "[encoded data removed]",
      "text/plain": [
       "<matplotlib.figure.Figure at 0x1eb5f7cf940>"
      ]
     },
     "metadata": {},
     "output_type": "display_data"
    }
   ],
   "source": [
    "# vamos a graficar como varian estos parametros para ver cual es el threshold que mas se ajusta a nuestra necesidad\n",
    "y_scores = cross_val_predict(sgd_clf, X_train, y_train_5, cv=3, method=\"decision_function\")\n",
    "\n",
    "from sklearn.metrics import precision_recall_curve\n",
    "precisions, recalls, thresholds = precision_recall_curve(y_train_5, y_scores)\n",
    "\n",
    "def plot_precision_recall_vs_threshold(precisions, recalls, thresholds):\n",
    "    plt.plot(thresholds, precisions[:-1],\"b--\", label=\"Precision\")\n",
    "    plt.plot(thresholds, recalls[:-1],\"g-\", label=\"Recall\")\n",
    "    plt.xlabel(\"Threshold\")\n",
    "    plt.legend(loc=\"center left\")\n",
    "    plt.ylim([0,1])\n",
    "\n",
    "plot_precision_recall_vs_threshold(precisions, recalls, thresholds)\n",
    "# con esto podemos elegir el threshold que mas se ajusta a nuestro problema"
   ]
  },
  {
   "cell_type": "code",
   "execution_count": 41,
   "metadata": {
    "collapsed": false
   },
   "outputs": [
    {
     "name": "stdout",
     "output_type": "stream",
     "text": [
      "0.898992649061\n",
      "0.609112709832\n"
     ]
    }
   ],
   "source": [
    "# supongamos ahora que decidimo apuntar a una precision de 90%\n",
    "# si vemos el plot necesitamos cerca de un threshold de 70.000 para lograrlo\n",
    "# en lugar de usar el metodo predict() del clf usamos los scores\n",
    "\n",
    "y_train_pred_90 = (y_scores > 70000)\n",
    "\n",
    "# veamos las metricas ahora\n",
    "print(precision_score(y_train_5, y_train_pred_90))\n",
    "print(recall_score(y_train_5, y_train_pred_90))"
   ]
  },
  {
   "cell_type": "code",
   "execution_count": 44,
   "metadata": {
    "collapsed": false
   },
   "outputs": [
    {
     "data": {
      "text/plain": [
       "<matplotlib.text.Text at 0x1eb65665be0>"
      ]
     },
     "execution_count": 44,
     "metadata": {},
     "output_type": "execute_result"
    },
    {
     "data": {
      "image/png": "[encoded data removed]",
      "text/plain": [
       "<matplotlib.figure.Figure at 0x1eb656551d0>"
      ]
     },
     "metadata": {},
     "output_type": "display_data"
    }
   ],
   "source": [
    "# PR curve - Precision vs Recall\n",
    "\n",
    "plt.plot(recalls[:-1], precisions[:-1])\n",
    "plt.xlabel(\"Recall\")\n",
    "plt.ylabel(\"Precision\")"
   ]
  },
  {
   "cell_type": "code",
   "execution_count": 47,
   "metadata": {
    "collapsed": false
   },
   "outputs": [
    {
     "data": {
      "image/png": "[encoded data removed]",
      "text/plain": [
       "<matplotlib.figure.Figure at 0x1eb65655438>"
      ]
     },
     "metadata": {},
     "output_type": "display_data"
    }
   ],
   "source": [
    "# ROC curve\n",
    "\n",
    "# otra metrica para clasificadores binarios\n",
    "# mide: true positives rate vs false positive rate\n",
    "from sklearn.metrics import roc_curve\n",
    "\n",
    "fpr, tpr, thresholds = roc_curve(y_train_5, y_scores)\n",
    "\n",
    "def plot_roc_curve(fpr, tpr, label=None):\n",
    "    plt.plot(fpr, tpr, linewidth=2, label=label)\n",
    "    plt.plot([0,1],[0,1],'k--')\n",
    "    plt.axis([0,1,0,1])\n",
    "    plt.xlabel(\"False Positive Rate\")\n",
    "    plt.ylabel(\"True Positive Rate\")\n",
    "\n",
    "plot_roc_curve(fpr, tpr)\n",
    "plt.show()"
   ]
  },
  {
   "cell_type": "code",
   "execution_count": 48,
   "metadata": {
    "collapsed": false
   },
   "outputs": [
    {
     "data": {
      "text/plain": [
       "0.95695384041759657"
      ]
     },
     "execution_count": 48,
     "metadata": {},
     "output_type": "execute_result"
    }
   ],
   "source": [
    "# ROC AUC\n",
    "# un clasificador perfecto ROC AUC = 1\n",
    "\n",
    "from sklearn.metrics import roc_auc_score\n",
    "\n",
    "roc_auc_score(y_train_5, y_scores)"
   ]
  },
  {
   "cell_type": "code",
   "execution_count": null,
   "metadata": {
    "collapsed": true
   },
   "outputs": [],
   "source": [
    "# cuando usamos cada metrica\n",
    "\n",
    "# PR curve: cuando te preocupan mas los falsos positivos que los falsos negativos\n",
    "# ROC curve: cuando te precupan mas los falsos negativos que los falsos positivos"
   ]
  }
 ],
 "metadata": {
  "kernelspec": {
   "display_name": "Python 3",
   "language": "python",
   "name": "python3"
  }
 },
 "nbformat": 4,
 "nbformat_minor": 2
}
